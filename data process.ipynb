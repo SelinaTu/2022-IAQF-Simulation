{
 "cells": [
  {
   "cell_type": "code",
   "execution_count": 73,
   "metadata": {},
   "outputs": [],
   "source": [
    "import pandas as pd\n",
    "import numpy as np\n",
    "import yfinance as yf"
   ]
  },
  {
   "cell_type": "code",
   "execution_count": 74,
   "metadata": {},
   "outputs": [],
   "source": [
    "start, end = '2006-01-01', '2021-12-31'\n",
    "Russell = yf.download(\"^RUA\", start=start, end=end, progress= False)"
   ]
  },
  {
   "cell_type": "code",
   "execution_count": 75,
   "metadata": {},
   "outputs": [],
   "source": [
    "# get feature from csv file\n",
    "CPI = pd.read_csv('raw data/CPI.csv', index_col='observation_date') # #https://fred.stlouisfed.org/series/CPIAUCSL\n",
    "fedfundrate = pd.read_csv('raw data/FEDFUNDS.csv',index_col='observation_date') #https://fred.stlouisfed.org/series/FEDFUNDS\n",
    "ff4 = pd.read_csv('raw data/FF4.csv',index_col='date') # fama french four factor\n",
    "gdp = pd.read_csv('raw data/GDP.csv',index_col='observation_date') # gdp\n",
    "ppi = pd.read_csv('raw data/PPIACO.csv',index_col='observation_date') # ppi\n",
    "t10y2y_rate = pd.read_csv('raw data/T10Y2Y.csv',index_col='DATE') # 10 year - 2 year rate\n",
    "unemp_rate = pd.read_csv(\"raw data/U2RATE.csv\",index_col='observation_date')\n",
    "con_sentiment = pd.read_csv(\"raw data/UMCSENT.csv\",index_col='observation_date')\n",
    "vix = pd.read_csv(\"raw data/VIXCLS.csv\",index_col='DATE')\n",
    "m2 = pd.read_csv(\"raw data/WM2NS.csv\",index_col='observation_date')\n",
    "# get feature from Yahoo Finance\n",
    "SP500 = yf.download(\"^GSPC\", start=start, end=end, progress= False)\n",
    "SP500return = pd.DataFrame()\n",
    "SP500return.index = SP500.index\n",
    "SP500return['sp500return'] = (SP500['Close'] / SP500['Close'].shift(1)).apply(np.log).fillna(0)\n"
   ]
  },
  {
   "cell_type": "code",
   "execution_count": 76,
   "metadata": {},
   "outputs": [],
   "source": [
    "# get index\n",
    "CPI.index = pd.to_datetime(CPI.index)\n",
    "fedfundrate.index = pd.to_datetime(fedfundrate.index)\n",
    "ff4.index = pd.to_datetime(ff4.index)\n",
    "gdp.index = pd.to_datetime(gdp.index)\n",
    "ppi.index = pd.to_datetime(ppi.index)\n",
    "t10y2y_rate.index = pd.to_datetime(t10y2y_rate.index)\n",
    "unemp_rate.index = pd.to_datetime(unemp_rate.index)\n",
    "con_sentiment.index = pd.to_datetime(con_sentiment.index)\n",
    "vix.index = pd.to_datetime(vix.index)\n",
    "m2.index = pd.to_datetime(m2.index)\n",
    "\n",
    "CPI = CPI.resample('D').ffill()\n",
    "fedfundrate = fedfundrate.resample('D').ffill()\n",
    "ff4 = ff4.resample('D').ffill()\n",
    "gdp = gdp.resample('D').ffill()\n",
    "ppi = ppi.resample('D').ffill()\n",
    "t10y2y_rate = t10y2y_rate.resample('D').ffill()\n",
    "unemp_rate = unemp_rate.resample('D').ffill()\n",
    "con_sentiment = con_sentiment.resample('D').ffill()\n",
    "vix = vix.resample('D').ffill()\n",
    "m2 = m2.resample('D').ffill()"
   ]
  },
  {
   "cell_type": "code",
   "execution_count": 77,
   "metadata": {},
   "outputs": [],
   "source": [
    "# merger dataframe\n",
    "df = Russell.copy()\n",
    "df = pd.merge(df,SP500return,how='left',left_index=True, right_index=True)\n",
    "df = pd.merge(df,CPI,how='left',left_index=True, right_index=True)\n",
    "df = pd.merge(df,fedfundrate,how='left',left_index=True, right_index=True)\n",
    "df = pd.merge(df,ff4,how='left',left_index=True, right_index=True)\n",
    "df = pd.merge(df,gdp,how='left',left_index=True, right_index=True)\n",
    "df = pd.merge(df,ppi,how='left',left_index=True, right_index=True)\n",
    "df = pd.merge(df,t10y2y_rate,how='left',left_index=True, right_index=True)\n",
    "df = pd.merge(df,con_sentiment,how='left',left_index=True, right_index=True)\n",
    "df = pd.merge(df,vix,how='left',left_index=True, right_index=True)\n",
    "df = pd.merge(df,m2,how='left',left_index=True, right_index=True)"
   ]
  },
  {
   "cell_type": "code",
   "execution_count": 86,
   "metadata": {},
   "outputs": [
    {
     "name": "stdout",
     "output_type": "stream",
     "text": [
      "all features: Index(['Open', 'High', 'Low', 'Close', 'Adj Close', 'Volume', 'sp500return',\n",
      "       'CPIAUCSL', 'FEDFUNDS', 'mktrf', 'smb', 'hml', 'rf', 'umd', 'GDP',\n",
      "       'PPIACO', 'T10Y2Y', 'consumer_sentiment', 'VIXCLS', 'WM2NS'],\n",
      "      dtype='object')\n",
      "feature Dimension: (3998, 20)\n",
      "              Open         High          Low        Close    Adj Close  \\\n",
      "count  3998.000000  3998.000000  3998.000000  3998.000000  3998.000000   \n",
      "mean   1179.231094  1186.049019  1172.039113  1179.575218  1179.575218   \n",
      "std     531.980810   534.387446   529.887364   532.365243   532.365243   \n",
      "min     389.589996   400.500000   384.410004   389.609985   389.609985   \n",
      "25%     770.610001   775.202515   765.727478   771.080002   771.080002   \n",
      "50%    1072.214966  1078.125000  1066.164978  1072.739990  1072.739990   \n",
      "75%    1517.230011  1522.362518  1511.179962  1517.412506  1517.412506   \n",
      "max    2803.899902  2813.590088  2795.709961  2803.739990  2803.739990   \n",
      "\n",
      "             Volume  sp500return     CPIAUCSL     FEDFUNDS        mktrf  \\\n",
      "count  3.998000e+03  3998.000000  3998.000000  3998.000000  3998.000000   \n",
      "mean   7.706228e+03     0.000320   233.592406     1.158089     0.000450   \n",
      "std    1.904713e+05     0.012581    19.077892     1.641607     0.012639   \n",
      "min    0.000000e+00    -0.127652   199.300000     0.050000    -0.120000   \n",
      "25%    0.000000e+00    -0.003889   217.353000     0.100000    -0.004100   \n",
      "50%    0.000000e+00     0.000755   234.719000     0.180000     0.000850   \n",
      "75%    0.000000e+00     0.005670   247.284000     1.820000     0.005900   \n",
      "max    5.673400e+06     0.109572   280.887000     5.260000     0.113500   \n",
      "\n",
      "               smb          hml           rf          umd           GDP  \\\n",
      "count  3998.000000  3998.000000  3998.000000  3998.000000   3998.000000   \n",
      "mean      0.000034    -0.000087     0.000041     0.000012  17647.000845   \n",
      "std       0.006176     0.007966     0.000062     0.010721   2919.438546   \n",
      "min      -0.037900    -0.050200     0.000000    -0.143700  13599.160000   \n",
      "25%      -0.003500    -0.003400     0.000000    -0.004075  14865.701000   \n",
      "50%       0.000000    -0.000300     0.000010     0.000500  17192.019000   \n",
      "75%       0.003500     0.002975     0.000070     0.004800  19913.143000   \n",
      "max       0.054600     0.067300     0.000220     0.071200  24654.603000   \n",
      "\n",
      "            PPIACO  consumer_sentiment         WM2NS  \n",
      "count  3998.000000         3998.000000   3998.000000  \n",
      "mean    193.063480           82.195998  11590.054852  \n",
      "std      15.503194           11.939945   3734.179339  \n",
      "min     161.800000           55.300000   6639.200000  \n",
      "25%     183.500000           73.200000   8497.200000  \n",
      "50%     194.900000           82.500000  11033.200000  \n",
      "75%     202.700000           93.000000  13822.200000  \n",
      "max     243.287000          101.400000  21741.700000  \n"
     ]
    }
   ],
   "source": [
    "print(f'all features: {df.columns}')\n",
    "print(f'feature Dimension: {df.shape}')\n",
    "print(df.describe())"
   ]
  },
  {
   "cell_type": "code",
   "execution_count": 87,
   "metadata": {},
   "outputs": [],
   "source": [
    "# df.to_csv('cleaned_data.csv')"
   ]
  }
 ],
 "metadata": {
  "kernelspec": {
   "display_name": "base",
   "language": "python",
   "name": "python3"
  },
  "language_info": {
   "codemirror_mode": {
    "name": "ipython",
    "version": 3
   },
   "file_extension": ".py",
   "mimetype": "text/x-python",
   "name": "python",
   "nbconvert_exporter": "python",
   "pygments_lexer": "ipython3",
   "version": "3.9.17"
  }
 },
 "nbformat": 4,
 "nbformat_minor": 2
}
